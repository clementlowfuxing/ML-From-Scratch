{
  "nbformat": 4,
  "nbformat_minor": 0,
  "metadata": {
    "colab": {
      "name": "Untitled0.ipynb",
      "provenance": [],
      "authorship_tag": "ABX9TyOsMI8eitO23UixUJM8DLg9",
      "include_colab_link": true
    },
    "kernelspec": {
      "name": "python3",
      "display_name": "Python 3"
    }
  },
  "cells": [
    {
      "cell_type": "markdown",
      "metadata": {
        "id": "view-in-github",
        "colab_type": "text"
      },
      "source": [
        "<a href=\"https://colab.research.google.com/github/clementlowfuxing/ML-From-Scratch/blob/master/text_process.ipynb\" target=\"_parent\"><img src=\"https://colab.research.google.com/assets/colab-badge.svg\" alt=\"Open In Colab\"/></a>"
      ]
    },
    {
      "cell_type": "markdown",
      "metadata": {
        "id": "YD5Qawv4hPEJ",
        "colab_type": "text"
      },
      "source": [
        "**TEXT CLEANING & PRE-PROCESSING** \n",
        "\n",
        "\n"
      ]
    },
    {
      "cell_type": "markdown",
      "metadata": {
        "id": "BOnAZBE1hE3C",
        "colab_type": "text"
      },
      "source": [
        "In Natural Language Processing (NLP), most of the text and documents contain many words that are redundant for text classification, such as stopwords, miss-spellings, slangs, and etc. In this section, we briefly explain some techniques and methods for text cleaning and pre-processing text documents. In many algorithms like statistical and probabilistic learning methods, noise and unnecessary features can negatively affect the overall perfomance. So, elimination of these features are extremely important."
      ]
    },
    {
      "cell_type": "markdown",
      "metadata": {
        "id": "UApCowKJhd2D",
        "colab_type": "text"
      },
      "source": [
        "**TOKENIZATION**"
      ]
    },
    {
      "cell_type": "markdown",
      "metadata": {
        "id": "BsaLSCwahoEM",
        "colab_type": "text"
      },
      "source": [
        "Tokenization is the process of breaking down a stream of text into words, phrases, symbols, or any other meaningful elements called tokens. The main goal of this step is to extract individual words in a sentence. Along with text classifcation, in text mining, it is necessay to incorporate a parser in the pipeline which performs the tokenization of the documents; for example:"
      ]
    },
    {
      "cell_type": "markdown",
      "metadata": {
        "id": "i5_a0pxshsb3",
        "colab_type": "text"
      },
      "source": [
        "sentence:\n",
        "\n"
      ]
    },
    {
      "cell_type": "code",
      "metadata": {
        "id": "5rC1_Ud1hAtR",
        "colab_type": "code",
        "colab": {}
      },
      "source": [
        "After sleeping for four hours, he decided to sleep for another four\n"
      ],
      "execution_count": null,
      "outputs": []
    },
    {
      "cell_type": "markdown",
      "metadata": {
        "id": "12ElNQxRh62Q",
        "colab_type": "text"
      },
      "source": [
        "In this case, the tokens are as follows:\n",
        "\n"
      ]
    },
    {
      "cell_type": "code",
      "metadata": {
        "id": "2wOw4EI1h5t9",
        "colab_type": "code",
        "colab": {}
      },
      "source": [
        "{'After', 'sleeping', 'for', 'four', 'hours', 'he', 'decided', 'to', 'sleep', 'for', 'another', 'four'}\n"
      ],
      "execution_count": null,
      "outputs": []
    },
    {
      "cell_type": "markdown",
      "metadata": {
        "id": "I6sw3Kk_iGJ5",
        "colab_type": "text"
      },
      "source": [
        "Here is python code for Tokenization:\n",
        "\n"
      ]
    },
    {
      "cell_type": "code",
      "metadata": {
        "id": "FDCXk-OMiIzW",
        "colab_type": "code",
        "colab": {
          "base_uri": "https://localhost:8080/",
          "height": 68
        },
        "outputId": "808fb34e-4763-4a11-e44d-a5d7f52d3e0c"
      },
      "source": [
        "import nltk\n",
        "nltk.download('punkt')\n",
        "from nltk.tokenize import word_tokenize\n",
        "text = \"After sleeping for four hours, he decided to sleep for another four\"\n",
        "tokens = word_tokenize(text)\n",
        "print(tokens)"
      ],
      "execution_count": 7,
      "outputs": [
        {
          "output_type": "stream",
          "text": [
            "[nltk_data] Downloading package punkt to /root/nltk_data...\n",
            "[nltk_data]   Unzipping tokenizers/punkt.zip.\n",
            "['After', 'sleeping', 'for', 'four', 'hours', ',', 'he', 'decided', 'to', 'sleep', 'for', 'another', 'four']\n"
          ],
          "name": "stdout"
        }
      ]
    },
    {
      "cell_type": "markdown",
      "metadata": {
        "id": "21aWzrLSlMtl",
        "colab_type": "text"
      },
      "source": [
        "**STOPWORDS** "
      ]
    },
    {
      "cell_type": "markdown",
      "metadata": {
        "id": "6wTsoOT7lw3O",
        "colab_type": "text"
      },
      "source": [
        "**What are stop words?**\n",
        "A stop word is a commonly used word (such as “the”, “a”, “an”, “in”) that a search engine has been programmed to ignore, both when indexing entries for searching and when retrieving them as the result of a search query.\n",
        "\n",
        "We would not want these words to take up space in our database, or taking up valuable processing time. For this, we can remove them easily, by storing a list of words that you consider to stop words. NLTK(Natural Language Toolkit) in python has a list of stopwords stored in 16 different languages. You can find them in the nltk_data directory. home/pratima/nltk_data/corpora/stopwords is the directory address.(Do not forget to change your home directory name)\n",
        "\n",
        "![image.png](data:image/png;base64,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)"
      ]
    },
    {
      "cell_type": "markdown",
      "metadata": {
        "id": "0_oI7vGAlS7L",
        "colab_type": "text"
      },
      "source": [
        "Text and document classification over social media, such as Twitter, Facebook, and so on is usually affected by the noisy nature (abbreviations, irregular forms) of the text corpuses."
      ]
    },
    {
      "cell_type": "code",
      "metadata": {
        "id": "HjPmMlJRpp28",
        "colab_type": "code",
        "colab": {
          "base_uri": "https://localhost:8080/",
          "height": 54
        },
        "outputId": "90ebe61d-7564-448a-ee2e-411c3ededd39"
      },
      "source": [
        "from nltk.corpus import stopwords\n",
        "print(stopwords.words('english'))"
      ],
      "execution_count": 10,
      "outputs": [
        {
          "output_type": "stream",
          "text": [
            "['i', 'me', 'my', 'myself', 'we', 'our', 'ours', 'ourselves', 'you', \"you're\", \"you've\", \"you'll\", \"you'd\", 'your', 'yours', 'yourself', 'yourselves', 'he', 'him', 'his', 'himself', 'she', \"she's\", 'her', 'hers', 'herself', 'it', \"it's\", 'its', 'itself', 'they', 'them', 'their', 'theirs', 'themselves', 'what', 'which', 'who', 'whom', 'this', 'that', \"that'll\", 'these', 'those', 'am', 'is', 'are', 'was', 'were', 'be', 'been', 'being', 'have', 'has', 'had', 'having', 'do', 'does', 'did', 'doing', 'a', 'an', 'the', 'and', 'but', 'if', 'or', 'because', 'as', 'until', 'while', 'of', 'at', 'by', 'for', 'with', 'about', 'against', 'between', 'into', 'through', 'during', 'before', 'after', 'above', 'below', 'to', 'from', 'up', 'down', 'in', 'out', 'on', 'off', 'over', 'under', 'again', 'further', 'then', 'once', 'here', 'there', 'when', 'where', 'why', 'how', 'all', 'any', 'both', 'each', 'few', 'more', 'most', 'other', 'some', 'such', 'no', 'nor', 'not', 'only', 'own', 'same', 'so', 'than', 'too', 'very', 's', 't', 'can', 'will', 'just', 'don', \"don't\", 'should', \"should've\", 'now', 'd', 'll', 'm', 'o', 're', 've', 'y', 'ain', 'aren', \"aren't\", 'couldn', \"couldn't\", 'didn', \"didn't\", 'doesn', \"doesn't\", 'hadn', \"hadn't\", 'hasn', \"hasn't\", 'haven', \"haven't\", 'isn', \"isn't\", 'ma', 'mightn', \"mightn't\", 'mustn', \"mustn't\", 'needn', \"needn't\", 'shan', \"shan't\", 'shouldn', \"shouldn't\", 'wasn', \"wasn't\", 'weren', \"weren't\", 'won', \"won't\", 'wouldn', \"wouldn't\"]\n"
          ],
          "name": "stdout"
        }
      ]
    },
    {
      "cell_type": "code",
      "metadata": {
        "id": "EFd5FMFUlfCQ",
        "colab_type": "code",
        "colab": {
          "base_uri": "https://localhost:8080/",
          "height": 85
        },
        "outputId": "f2fa25a5-c993-4886-db32-c81a02e18662"
      },
      "source": [
        "nltk.download('stopwords')\n",
        "from nltk.corpus import stopwords\n",
        "from nltk.tokenize import word_tokenize\n",
        "\n",
        "example_sent = \"This is a sample sentence, showing off the stop words filtration.\"\n",
        "\n",
        "stop_words = set(stopwords.words('english'))\n",
        "\n",
        "word_tokens = word_tokenize(example_sent)\n",
        "\n",
        "filtered_sentence = [w for w in word_tokens if not w in stop_words]\n",
        "\n",
        "filtered_sentence = []\n",
        "\n",
        "for w in word_tokens:\n",
        "    if w not in stop_words:\n",
        "        filtered_sentence.append(w)\n",
        "\n",
        "print(word_tokens)\n",
        "print(filtered_sentence)"
      ],
      "execution_count": 9,
      "outputs": [
        {
          "output_type": "stream",
          "text": [
            "[nltk_data] Downloading package stopwords to /root/nltk_data...\n",
            "[nltk_data]   Unzipping corpora/stopwords.zip.\n",
            "['This', 'is', 'a', 'sample', 'sentence', ',', 'showing', 'off', 'the', 'stop', 'words', 'filtration', '.']\n",
            "['This', 'sample', 'sentence', ',', 'showing', 'stop', 'words', 'filtration', '.']\n"
          ],
          "name": "stdout"
        }
      ]
    },
    {
      "cell_type": "markdown",
      "metadata": {
        "id": "s_U5bTiAskOa",
        "colab_type": "text"
      },
      "source": [
        "**CAPITALIZATION**"
      ]
    },
    {
      "cell_type": "markdown",
      "metadata": {
        "id": "XD96DMuLsrWB",
        "colab_type": "text"
      },
      "source": [
        "Sentences can contain a mixture of uppercase and lower case letters. Multiple sentences make up a text document. To reduce the problem space, the most common approach is to reduce everything to lower case. This brings all words in a document in same space, but it often changes the meaning of some words, such as \"US\" to \"us\" where first one represents the United States of America and second one is a pronoun. To solve this, slang and abbreviation converters can be applied."
      ]
    },
    {
      "cell_type": "code",
      "metadata": {
        "id": "tX5Og5ePsunE",
        "colab_type": "code",
        "colab": {
          "base_uri": "https://localhost:8080/",
          "height": 51
        },
        "outputId": "e46eda2a-f24f-4381-a894-866cd9aae3f8"
      },
      "source": [
        "text = \"The United States of America (USA) or America, is a federal republic composed of 50 states\"\n",
        "print(text)\n",
        "print(text.lower())"
      ],
      "execution_count": 11,
      "outputs": [
        {
          "output_type": "stream",
          "text": [
            "The United States of America (USA) or America, is a federal republic composed of 50 states\n",
            "the united states of america (usa) or america, is a federal republic composed of 50 states\n"
          ],
          "name": "stdout"
        }
      ]
    },
    {
      "cell_type": "markdown",
      "metadata": {
        "id": "IoeHYrdQstpS",
        "colab_type": "text"
      },
      "source": [
        "**Noise Removal**"
      ]
    },
    {
      "cell_type": "markdown",
      "metadata": {
        "id": "plZMGe0Ws9BB",
        "colab_type": "text"
      },
      "source": [
        "Another issue of text cleaning as a pre-processing step is noise removal. Text documents generally contains characters like punctuations or special characters and they are not necessary for text mining or classification purposes. Although punctuation is critical to understand the meaning of the sentence, but it can affect the classification algorithms negatively.\n",
        "\n",
        "Here is simple code to remove standard noise from text:"
      ]
    },
    {
      "cell_type": "code",
      "metadata": {
        "id": "DEHMLCZgs_c8",
        "colab_type": "code",
        "colab": {}
      },
      "source": [
        "def text_cleaner(text):\n",
        "    rules = [\n",
        "        {r'>\\s+': u'>'},  # remove spaces after a tag opens or closes\n",
        "        {r'\\s+': u' '},  # replace consecutive spaces\n",
        "        {r'\\s*<br\\s*/?>\\s*': u'\\n'},  # newline after a <br>\n",
        "        {r'</(div)\\s*>\\s*': u'\\n'},  # newline after </p> and </div> and <h1/>...\n",
        "        {r'</(p|h\\d)\\s*>\\s*': u'\\n\\n'},  # newline after </p> and </div> and <h1/>...\n",
        "        {r'<head>.*<\\s*(/head|body)[^>]*>': u''},  # remove <head> to </head>\n",
        "        {r'<a\\s+href=\"([^\"]+)\"[^>]*>.*</a>': r'\\1'},  # show links instead of texts\n",
        "        {r'[ \\t]*<[^<]*?/?>': u''},  # remove remaining tags\n",
        "        {r'^\\s+': u''}  # remove spaces at the beginning\n",
        "    ]\n",
        "    for rule in rules:\n",
        "      for (k, v) in rule.items():\n",
        "        regex = re.compile(k)\n",
        "        text = regex.sub(v, text)\n",
        "        text = text.rstrip()\n",
        "    return text.lower() "
      ],
      "execution_count": 15,
      "outputs": []
    },
    {
      "cell_type": "code",
      "metadata": {
        "id": "E00arZfq0TYr",
        "colab_type": "code",
        "colab": {
          "base_uri": "https://localhost:8080/",
          "height": 51
        },
        "outputId": "89040de5-4662-47fc-fd3f-ad4275a3d738"
      },
      "source": [
        "import regex as re\n",
        "text = \"   The United  States of America (USA) or America, is a federal republic composed of 50 states. \"\n",
        "print(text)\n",
        "print(text_cleaner(text))"
      ],
      "execution_count": 22,
      "outputs": [
        {
          "output_type": "stream",
          "text": [
            "   The United  States of America (USA) or America, is a federal republic composed of 50 states. \n",
            "the united states of america (usa) or america, is a federal republic composed of 50 states.\n"
          ],
          "name": "stdout"
        }
      ]
    },
    {
      "cell_type": "markdown",
      "metadata": {
        "id": "dClOMX_83Nr8",
        "colab_type": "text"
      },
      "source": [
        "**SPELLING CORRECTION** "
      ]
    },
    {
      "cell_type": "markdown",
      "metadata": {
        "id": "fmuKiQT43VvX",
        "colab_type": "text"
      },
      "source": [
        "An optional part of the pre-processing step is correcting the misspelled words. Different techniques, such as hashing-based and context-sensitive spelling correction techniques, or spelling correction using trie and damerau-levenshtein distance bigram have been introduced to tackle this issue."
      ]
    },
    {
      "cell_type": "code",
      "metadata": {
        "id": "7sIUdT422xha",
        "colab_type": "code",
        "colab": {
          "base_uri": "https://localhost:8080/",
          "height": 205
        },
        "outputId": "4de8611f-2bf3-40f7-a789-e8eddbcaedfd"
      },
      "source": [
        "!pip install autocorrect\n",
        "from autocorrect import Speller\n",
        " \n",
        "check = Speller(lang='en')\n",
        "check(\"does this sentece have misspelled wordz?\")\n"
      ],
      "execution_count": 32,
      "outputs": [
        {
          "output_type": "stream",
          "text": [
            "Collecting autocorrect\n",
            "\u001b[?25l  Downloading https://files.pythonhosted.org/packages/aa/5b/6510d8370201fc96cbb773232c2362079389ed3285b0b1c6a297ef6eadc0/autocorrect-2.0.0.tar.gz (1.8MB)\n",
            "\u001b[K     |████████████████████████████████| 1.8MB 2.8MB/s \n",
            "\u001b[?25hBuilding wheels for collected packages: autocorrect\n",
            "  Building wheel for autocorrect (setup.py) ... \u001b[?25l\u001b[?25hdone\n",
            "  Created wheel for autocorrect: filename=autocorrect-2.0.0-cp36-none-any.whl size=1811641 sha256=6a4eed4afa987f92b16f1f2fb7279ac2aae80323497ca82e60b5ead7eb2a9b13\n",
            "  Stored in directory: /root/.cache/pip/wheels/0b/06/bc/e66f28d72bed29591eadc79cebb2e7964ad0282804ab233da3\n",
            "Successfully built autocorrect\n",
            "Installing collected packages: autocorrect\n",
            "Successfully installed autocorrect-2.0.0\n"
          ],
          "name": "stdout"
        },
        {
          "output_type": "execute_result",
          "data": {
            "application/vnd.google.colaboratory.intrinsic+json": {
              "type": "string"
            },
            "text/plain": [
              "'does this sentence have misspelled words?'"
            ]
          },
          "metadata": {
            "tags": []
          },
          "execution_count": 32
        }
      ]
    },
    {
      "cell_type": "code",
      "metadata": {
        "id": "N6DZGYty3ZGd",
        "colab_type": "code",
        "colab": {
          "base_uri": "https://localhost:8080/",
          "height": 153
        },
        "outputId": "3d2fb949-e84f-4ee3-e35a-54bdc7cb8427"
      },
      "source": [
        "from autocorrect import spell\n",
        "\n",
        "print(spell('caaaar'))\n",
        "print(spell(u'mussage'))\n",
        "print(spell(u'survice'))\n",
        "print(spell(u'hte'))"
      ],
      "execution_count": 35,
      "outputs": [
        {
          "output_type": "stream",
          "text": [
            "autocorrect.spell is deprecated,             use autocorrect.Speller instead\n",
            "caesar\n",
            "autocorrect.spell is deprecated,             use autocorrect.Speller instead\n",
            "message\n",
            "autocorrect.spell is deprecated,             use autocorrect.Speller instead\n",
            "service\n",
            "autocorrect.spell is deprecated,             use autocorrect.Speller instead\n",
            "the\n"
          ],
          "name": "stdout"
        }
      ]
    },
    {
      "cell_type": "markdown",
      "metadata": {
        "id": "wJh-z5aU36TZ",
        "colab_type": "text"
      },
      "source": [
        "**TextBlob**\n",
        "To use TextBlob’s spellchecking functionality, we just need to import the Word class. Then we can input a word and check its spelling using the spellcheck method, like below."
      ]
    },
    {
      "cell_type": "code",
      "metadata": {
        "id": "lSkavnOH4Erq",
        "colab_type": "code",
        "colab": {
          "base_uri": "https://localhost:8080/",
          "height": 34
        },
        "outputId": "ccd7f274-e85b-443b-9500-5632a371881c"
      },
      "source": [
        "from textblob import Word\n",
        " \n",
        "word = Word('percieve')\n",
        " \n",
        "word.spellcheck()\n",
        " \n",
        "# [('perceive', 1.0)]"
      ],
      "execution_count": 36,
      "outputs": [
        {
          "output_type": "execute_result",
          "data": {
            "text/plain": [
              "[('perceive', 1.0)]"
            ]
          },
          "metadata": {
            "tags": []
          },
          "execution_count": 36
        }
      ]
    },
    {
      "cell_type": "markdown",
      "metadata": {
        "id": "UWzSkHWk4JD6",
        "colab_type": "text"
      },
      "source": [
        "As can be seen above, TextBlob returns two pieces – a recommended correction for this word, and a confidence score associated with the correction. In this case, we just get one word back with a confidence of 1.0, or 100%.\n",
        "\n",
        "Let’s try another word that returns multiple possibilities. If we input the string “personell”, we get a list of possible corrections with confidence scores because this string is fairly similar in spelling to a few different words."
      ]
    },
    {
      "cell_type": "code",
      "metadata": {
        "id": "dIDtFTky4J91",
        "colab_type": "code",
        "colab": {
          "base_uri": "https://localhost:8080/",
          "height": 102
        },
        "outputId": "d442aa54-de30-485b-af5a-0c1d1a3669e5"
      },
      "source": [
        "word = Word('personell')\n",
        "word.spellcheck()\n",
        " \n",
        "#[('personal', 0.65),\n",
        "#('personally', 0.2642857142857143),\n",
        "# ('peroneal', 0.06428571428571428),\n",
        "# ('personnel', 0.014285714285714285),\n",
        "# ('personen', 0.007142857142857143)]"
      ],
      "execution_count": 37,
      "outputs": [
        {
          "output_type": "execute_result",
          "data": {
            "text/plain": [
              "[('personal', 0.65),\n",
              " ('personally', 0.2642857142857143),\n",
              " ('peroneal', 0.06428571428571428),\n",
              " ('personnel', 0.014285714285714285),\n",
              " ('personen', 0.007142857142857143)]"
            ]
          },
          "metadata": {
            "tags": []
          },
          "execution_count": 37
        }
      ]
    },
    {
      "cell_type": "markdown",
      "metadata": {
        "id": "VpLJiHFw4QqD",
        "colab_type": "text"
      },
      "source": [
        "According to its documentation, TextBlob’s spelling correction feature is about 70% accurate."
      ]
    },
    {
      "cell_type": "markdown",
      "metadata": {
        "id": "qkasLYFL4RuS",
        "colab_type": "text"
      },
      "source": [
        "**A few caveats**\n",
        "It’s important to keep in mind that no programmatic spell checker is perfect. However, Python does have several pre-made options available, as described above, but you could also potentially build your own as well using fuzzy matching. Also, words outside of context make it more difficult to determine the correct spelling if the misspelled string is similar to multiple words. For example, take the string “liberry”. This is a known misspelling for library. However, it is also just one letter off from liberty.\n",
        "\n",
        "If we use one of the packages above, we get the word “liberty” returned, which is not illogical, as the string is very close in spelling, but context could help reveal which word makes the most sense. For building a contextual spell checker in Python, you might want to check out recurrent neural networks or Markov models."
      ]
    },
    {
      "cell_type": "code",
      "metadata": {
        "id": "YXM9Y9RP4x13",
        "colab_type": "code",
        "colab": {
          "base_uri": "https://localhost:8080/",
          "height": 52
        },
        "outputId": "dd1f5ef5-e197-447a-98a8-0df80226c0fd"
      },
      "source": [
        "!pip install pyspellchecker\n",
        "from spellchecker import SpellChecker\n",
        "spell = SpellChecker()\n",
        "spell.correction(\"liberry\") # liberty\n",
        " \n",
        "word = Word(\"liberry\")\n",
        "word.spellcheck() # liberty\n",
        " \n",
        "check(\"liberry\") # liberty"
      ],
      "execution_count": 41,
      "outputs": [
        {
          "output_type": "stream",
          "text": [
            "Requirement already satisfied: pyspellchecker in /usr/local/lib/python3.6/dist-packages (0.5.4)\n"
          ],
          "name": "stdout"
        },
        {
          "output_type": "execute_result",
          "data": {
            "application/vnd.google.colaboratory.intrinsic+json": {
              "type": "string"
            },
            "text/plain": [
              "'liberty'"
            ]
          },
          "metadata": {
            "tags": []
          },
          "execution_count": 41
        }
      ]
    }
  ]
}